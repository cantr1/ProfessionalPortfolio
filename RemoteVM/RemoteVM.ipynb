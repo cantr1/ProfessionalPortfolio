{
 "cells": [
  {
   "cell_type": "markdown",
   "id": "ba03b2c8-8071-4836-82ea-03e1a4b4de9e",
   "metadata": {},
   "source": [
    "# RemoteVM\n",
    "\n",
    "## Objective\n",
    "\n",
    "The goal of this project is to enhance my skills working with virtual machines and networking between them. In this project, I created a VM running CentOS9 and used the PuTTY tool in my Windows machine to remote into the VM.\n",
    "\n",
    "This project displays my ability to:\n",
    "- Use Oracle VM to create and manage virtual machines\n",
    "- Manage and update firewalls on Linux\n",
    "- Conduct standard network operations between devices\n",
    "- Utilize SSH on a Linux client"
   ]
  },
  {
   "cell_type": "markdown",
   "id": "61278e18-5b97-43da-946a-5a510b5d3783",
   "metadata": {},
   "source": [
    "### 1.) VM Management\n",
    "\n",
    "Showing the full process of installing and creating a VM is outside of the scope of this project, but one key thing I learned in doing this project is to ensure that a VM is using a 'Bridged Adapter' in its network settings. This ensures that the VM is available on the network for communications between machines. \n",
    "\n",
    "The default setting is to use NAT (Network Address Translation) which allows the virtual machine to access external networks through the host's IP address, while a bridged adapter connects the VM directly to the network, giving it its own IP address on the same network as the host.\n",
    "\n",
    "By changing this setting you will be able to connect to the VM from other machines (see the ping results from the Windows terminal)."
   ]
  },
  {
   "cell_type": "markdown",
   "id": "54c43655-9fcf-426a-945a-47ef7f2dc4fd",
   "metadata": {},
   "source": [
    "![NetworkSettingsVM](RemoteVM/Screenshot (23).png)"
   ]
  },
  {
   "cell_type": "markdown",
   "id": "e1b9001b-e4cd-46cc-b2d1-fe31248a5bf1",
   "metadata": {},
   "source": [
    "![NetworkSettingsVM](RemoteVM/Screenshot (22).png)"
   ]
  },
  {
   "cell_type": "markdown",
   "id": "bb36f9fe-774e-4ef8-92ca-b1b013193e3a",
   "metadata": {},
   "source": [
    "### 2.) Firewall Management\n",
    "\n",
    "To remote into a VM, it is important to check the firewall to make sure the connection will be allowed. Most Linux distributions come with a default firewall setting which must be updated to allow for SSH connections.\n",
    "\n",
    "It is always good practice to check the status of the firewall before making changes or if experiencing issues in connectivity. This command returns the status of the firewall:\n",
    "\n",
    "**sudo systemctl status firewalld**"
   ]
  },
  {
   "cell_type": "markdown",
   "id": "9b8a2faa-4dc8-4bb3-9d50-03155cecd90e",
   "metadata": {},
   "source": [
    "![Firewall](Screenshot%20from%202024-08-12%2015-36-01.png)"
   ]
  },
  {
   "cell_type": "markdown",
   "id": "e36e1804-b7cc-47b7-b7e5-ac054a2174f6",
   "metadata": {},
   "source": [
    "We can take this a step further by looking at what zones are active on the firewall:\n",
    "\n",
    "**sudo firewall-cmd --get-active-zones**\n",
    "\n",
    "With the knowledge of what zones are active, you can then run this command to see what the policies are for this zone:\n",
    "\n",
    "**sudo firewall-cmd --zone={target-zone} --list-all**\n",
    "\n",
    "We can then set the policy for SSH on our firewall to permanently be available on startup with this command:\n",
    "\n",
    "**sudo firewall-cmd --permanent --add-service=ssh**"
   ]
  },
  {
   "cell_type": "markdown",
   "id": "31c40018-81a9-499b-bba4-ff5f3962350f",
   "metadata": {},
   "source": [
    "![Firewall](Screenshot%20from%202024-08-12%2015-38-13.png)"
   ]
  },
  {
   "cell_type": "markdown",
   "id": "362b9b8b-fb47-4733-ab0a-968a69110232",
   "metadata": {},
   "source": [
    "### 3.) SSH / PuTTY\n",
    "To run SSH connections on the VM there needs to be a client to manage SSH connections.\n",
    "This command can install an SSH client on the VM:\n",
    "\n",
    "**sudo yum install openssh-server**\n",
    "\n",
    "To start the service we run this command:\n",
    "\n",
    "**sudo systemctl start sshd**\n",
    "\n",
    "With everything running on the Linux machine, we can then transistion to PuTTY."
   ]
  },
  {
   "cell_type": "markdown",
   "id": "8d18705d-5ba2-4233-b431-5850f14186f3",
   "metadata": {},
   "source": [
    "![Firewall](Screenshot%20from%202024-08-12%2015-38-41.png)"
   ]
  },
  {
   "cell_type": "markdown",
   "id": "72d86ba4-11a2-458c-8cc2-c262b6a8cf09",
   "metadata": {},
   "source": [
    "In PuTTY, connect to the VM by using the host IP address and connection on Port 22. To find the host address on CentOS9, run the command:\n",
    "\n",
    "**ip addr show**\n",
    "\n",
    "After a few moments you will be connected to your Linux machine from your Windows environment!"
   ]
  },
  {
   "cell_type": "markdown",
   "id": "906e25b9-582c-4dce-a137-3b14df12b206",
   "metadata": {},
   "source": [
    "![NetworkSettingsVM](RemoteVM/Screenshot(24).png)"
   ]
  }
 ],
 "metadata": {
  "kernelspec": {
   "display_name": "Python 3 (ipykernel)",
   "language": "python",
   "name": "python3"
  },
  "language_info": {
   "codemirror_mode": {
    "name": "ipython",
    "version": 3
   },
   "file_extension": ".py",
   "mimetype": "text/x-python",
   "name": "python",
   "nbconvert_exporter": "python",
   "pygments_lexer": "ipython3",
   "version": "3.11.7"
  }
 },
 "nbformat": 4,
 "nbformat_minor": 5
}
