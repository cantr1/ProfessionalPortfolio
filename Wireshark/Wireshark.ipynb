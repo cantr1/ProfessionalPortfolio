{
 "cells": [
  {
   "cell_type": "markdown",
   "id": "f6ca350a-00b4-4ab7-8f8d-652027911b8f",
   "metadata": {},
   "source": [
    "# Wireshark Study"
   ]
  },
  {
   "cell_type": "markdown",
   "id": "55b81372-9d30-4640-9966-680310187b40",
   "metadata": {},
   "source": [
    "In this project, we will explore the use of Wireshark to capture and analyze network traffic with the goal of extracting images transmitted over the network. In our hypothetical, we recieved a ticket suggesting that there is suspicious network traffic on a machine in our network. After remoting into the machine, we utilize the Wireshark tool to examine this suspicios traffic.\n",
    "\n",
    "Wireshark is a powerful open-source network protocol analyzer that allows users to capture and interactively browse the traffic running on a computer network. It provides visibility into the detailed operations of network protocols, which makes it an invaluable tool for network troubleshooting, security analysis, and data extraction.\n",
    "\n",
    "This project will demonstrate how to identify and isolate image files transmitted via HTML and FTP protocols by analyzing captured network packets. By examining these packets, we can extract and reconstruct the images, offering a practical example of how Wireshark can be utilized for network forensic purposes."
   ]
  },
  {
   "cell_type": "markdown",
   "id": "dd084267-0e7e-424c-94b0-698ac241b7ce",
   "metadata": {},
   "source": [
    "## HTML Analysis"
   ]
  },
  {
   "cell_type": "markdown",
   "id": "155e4261-bbd1-4bad-9f07-5fe4f5ad04e7",
   "metadata": {},
   "source": [
    "HTML (Hypertext Markup Language) is the standard language used to create and design webpages. It serves as the backbone of most websites, structuring content like text, images, links, and other multimedia elements to be displayed in web browsers.\n",
    "\n",
    "HTML works by using a system of tags that define various elements on a webpage. These tags, enclosed in angle brackets (e.g., <img> for images), tell the browser how to display the content. HTML is a markup language, meaning it annotates text with information that the browser interprets to render the content correctly.\n",
    "\n",
    "When you visit a website, your browser sends a request to a web server, which then responds with an HTML file. The browser reads this HTML file and renders the content, including text, images, and other elements, as a visually coherent webpage. Images in HTML are typically embedded using the <img> tag, which references the image's URL.\n",
    "\n",
    "In the context of network traffic, when an HTML page is loaded, the associated image files are transferred from the server to the client device. By capturing this traffic, tools like Wireshark can be used to analyze and extract these images from the data packets sent over the network."
   ]
  },
  {
   "cell_type": "markdown",
   "id": "616d7481-373b-49b0-9b1e-7147e1cdb979",
   "metadata": {},
   "source": [
    "![alt](Images/http-200.png)"
   ]
  },
  {
   "attachments": {},
   "cell_type": "markdown",
   "id": "b94cd1ad-c347-4f84-a456-52fc2a6e11d8",
   "metadata": {},
   "source": [
    "In the above image, we observe a packet capture (PCAP) file loaded in Wireshark, showcasing a significant amount of HTML traffic. HTML traffic is often associated with the loading of web pages and their various components, such as images, text, and scripts.\n",
    "\n",
    "Our attention is particularly drawn to a packet marked with a 200 status code. This is noteworthy because a 200 status code in HTTP (Hypertext Transfer Protocol) signifies a successful request. In this context, it indicates that the server has successfully delivered the requested content to the client. When analyzing network traffic, packets with a 200 flag are crucial as they confirm that the data (such as an image) was successfully transmitted, making them prime candidates for further analysis and extraction of embedded content."
   ]
  },
  {
   "cell_type": "markdown",
   "id": "b9ee766b-cb0a-4e2f-adf3-283aa7f1f855",
   "metadata": {},
   "source": [
    "![alt](Images/tcp-follow.png)"
   ]
  },
  {
   "cell_type": "markdown",
   "id": "3054c835-9c0c-4def-b2bd-aa9da32beb16",
   "metadata": {},
   "source": [
    "In this image, we've selected the interesting packet—one flagged with a 200 status code—and chosen to follow its TCP stream. This step is essential because it allows us to view the entire conversation between the client and server related to this specific connection. By following the TCP stream, we can see the complete sequence of data exchanges, which includes the HTML content and any embedded resources, such as images. This approach helps isolate the relevant data, making it easier to locate and extract the images transmitted within this session."
   ]
  },
  {
   "cell_type": "markdown",
   "id": "8cb123e2-ea39-4410-b760-f0434802b475",
   "metadata": {},
   "source": [
    "![alt](Images/tcp-handshake.png)"
   ]
  },
  {
   "cell_type": "markdown",
   "id": "9e765a7d-9d2d-481f-97de-95e6fac0e972",
   "metadata": {},
   "source": [
    "Examining the TCP Handshake and Communications\n",
    "\n",
    "After following the TCP stream, we can see the detailed communications involved in this packet. One of the first things to observe is the TCP handshake, which is a fundamental process in establishing a reliable connection between the client and server.\n",
    "\n",
    "The TCP handshake is a three-step process:\n",
    "\n",
    "    SYN (Synchronize) - The client sends a SYN packet to the server to initiate a connection.\n",
    "    SYN-ACK (Synchronize-Acknowledge) - The server responds with a SYN-ACK packet, acknowledging the receipt of the SYN packet and agreeing to establish the connection.\n",
    "    ACK (Acknowledge) - The client sends an ACK packet back to the server, confirming the connection establishment.\n",
    "\n",
    "This handshake ensures that both the client and server are synchronized and ready to communicate. Once the handshake is complete, the actual data transfer, including the HTML content and images, begins."
   ]
  },
  {
   "cell_type": "markdown",
   "id": "a8ed92e4-8bc3-4800-affb-9686b62be413",
   "metadata": {},
   "source": [
    "![alt](Images/jfif.png)"
   ]
  },
  {
   "cell_type": "markdown",
   "id": "98c3d216-d6dc-4c56-890b-bb546bd6753d",
   "metadata": {},
   "source": [
    "In this image, we've applied a filter for JFIF (JPEG File Interchange Format) within Wireshark. JFIF is a commonly used format for JPEG images, and by filtering the traffic with the keyword \"jfif,\" we can quickly narrow down the packets containing JPEG data. This filter is particularly useful when our goal is to locate and extract image files from the captured traffic. By isolating these packets, we can focus on the data that contains the actual image content, making the extraction process more efficient."
   ]
  },
  {
   "cell_type": "markdown",
   "id": "bd898f30-01ea-43fd-bb82-04baa39999c7",
   "metadata": {},
   "source": [
    "![alt](Images/export-objects.png)"
   ]
  },
  {
   "cell_type": "markdown",
   "id": "72ccf4bc-605a-4eaf-a02f-6ffb3c5d2a11",
   "metadata": {},
   "source": [
    "In this image, we've navigated to the Export Objects feature in Wireshark and selected HTML. This option allows us to export the HTML files that were captured in the network traffic. Exporting objects is a powerful feature in Wireshark, enabling us to extract complete files, such as web pages, images, or scripts, directly from the captured data.\n",
    "\n",
    "By selecting HTML, we're specifically targeting the web pages and associated resources that were transmitted during the network session. This step is essential when we want to reconstruct and analyze the full content of the web pages, including any embedded images that may have been loaded as part of the HTML traffic."
   ]
  },
  {
   "cell_type": "markdown",
   "id": "41f218c8-f8f6-402c-af00-cf3e403e9ae8",
   "metadata": {},
   "source": [
    "![alt](Images/extracted-data.png)"
   ]
  },
  {
   "cell_type": "markdown",
   "id": "30c43f9f-f8aa-4b7e-841e-f88e1d25bb79",
   "metadata": {},
   "source": [
    "After exporting and saving the data from the captured network traffic, we successfully extracted and viewed the image that was transported over the wire. This process demonstrates how Wireshark can be used to reconstruct files, such as images, from network traffic. By carefully analyzing the HTML and TCP streams, applying relevant filters, and using Wireshark's export features, we can uncover and recover media transmitted across a network. This practical example highlights the power of network analysis tools in both security investigations and data recovery."
   ]
  },
  {
   "cell_type": "markdown",
   "id": "32070f13-0631-4224-a732-c361d22d3505",
   "metadata": {},
   "source": [
    "## FTP Analysis"
   ]
  },
  {
   "cell_type": "markdown",
   "id": "b7ea699a-f193-48ff-aec6-52f20cce1a40",
   "metadata": {},
   "source": [
    "FTP (File Transfer Protocol) is a standard network protocol used to transfer files between a client and a server over a TCP-based network, such as the internet. FTP is commonly used for uploading and downloading files to and from a server, making it an essential tool for website management, file sharing, and data backup.\n",
    "\n",
    "Unlike HTML, which is primarily concerned with web page content, FTP is focused on the direct transfer of files. When analyzing FTP traffic, we can monitor the commands and responses exchanged between the client and server to understand what files are being transferred. This can include images, documents, and other types of media.\n",
    "\n",
    "In the context of our project, we suspect that a machine is receiving unusual traffic, potentially through FTP. To investigate further, the image below shows our command to establish an RDP (Remote Desktop Protocol) connection to the suspected machine. By connecting via RDP, we can directly interact with the machine, allowing us to inspect its activity, configurations, and any files that might have been received through FTP."
   ]
  },
  {
   "cell_type": "markdown",
   "id": "b04c8f8f-5cf3-43db-bf5c-d9d5c4212e34",
   "metadata": {},
   "source": [
    "![alt](Images/rdp.png)"
   ]
  },
  {
   "cell_type": "markdown",
   "id": "053d54fe-c368-4088-aec9-7669ab538106",
   "metadata": {},
   "source": [
    "![alt](Images/ftp.png)"
   ]
  },
  {
   "cell_type": "markdown",
   "id": "103303f3-ef6a-42a8-983e-001abb4f00c2",
   "metadata": {},
   "source": [
    "In this image, we have created a packet capture (PCAP) of network traffic and applied a filter to isolate FTP traffic. This filter allows us to focus specifically on the data exchanged between the FTP client and server. By narrowing down the traffic to only FTP packets, we can more effectively analyze the commands and responses related to file transfers.\n",
    "\n",
    "This step is crucial for identifying the file transfers occurring over the network and pinpointing any relevant image files or other data being exchanged. Filtering by FTP helps streamline the analysis process, making it easier to locate and extract the files of interest from the broader network traffic."
   ]
  },
  {
   "cell_type": "markdown",
   "id": "0113a5e2-04a5-41ee-b846-f8305ba1c970",
   "metadata": {},
   "source": [
    "![alt](Images/request-command.png)"
   ]
  },
  {
   "cell_type": "markdown",
   "id": "617753a8-a03d-41fc-926e-9337f2b43861",
   "metadata": {},
   "source": [
    "After isolating the FTP traffic, we apply a filter for ftp.request.command. This filter allows us to focus on specific FTP commands sent by the client to the server. Common FTP commands include RETR (retrieve), STOR (store), and LIST (list directory contents), among others.\n",
    "\n",
    "By filtering on ftp.request.command, we can see which commands are being executed and identify relevant file transfers. In this case, we notice a command that indicates an image file is being shared over FTP. This discovery allows us to pinpoint the exact packets involved in the image transfer, facilitating the extraction and analysis of the image file from the network traffic."
   ]
  },
  {
   "cell_type": "markdown",
   "id": "6419bee8-64bb-4123-af26-d6fae6488b5d",
   "metadata": {},
   "source": [
    "![alt](Images/ftp-data.png)"
   ]
  },
  {
   "cell_type": "markdown",
   "id": "ffce69c9-f76f-4de9-bd46-1d8c19a2d5e5",
   "metadata": {},
   "source": [
    "Following our previous analysis, we apply a filter for ftp-data. This filter isolates the data transfer packets within the FTP session, which contain the actual file contents being transferred between the client and server.\n",
    "\n",
    "While FTP commands handle the control and management of file transfers, the ftp-data filter focuses on the data packets that carry the file content itself. By filtering for ftp-data, we can examine the raw data transferred during the FTP session, which includes the image file in question. This step is crucial for extracting and reconstructing the file from the network traffic."
   ]
  },
  {
   "cell_type": "markdown",
   "id": "d02c2f36-94f8-441d-a238-5b33f7bbbff7",
   "metadata": {},
   "source": [
    "![alt](Images/follow.png)"
   ]
  },
  {
   "cell_type": "markdown",
   "id": "3b1c2806-be6d-4848-bed7-f5a995a5a202",
   "metadata": {},
   "source": [
    "In this image, we follow the TCP stream of one of the packets that contains the image. By doing this, we can view the entire sequence of data exchanged over the TCP connection related to this specific transfer. Following the TCP stream provides a complete picture of how the data was transmitted from the FTP server to the client, including the image file.\n",
    "\n",
    "This approach is essential for reconstructing the file accurately. It allows us to gather all the fragmented pieces of data transmitted over multiple packets and reassemble them into a complete image. This process ensures that we capture the full content of the image as it was transferred over the network."
   ]
  },
  {
   "cell_type": "markdown",
   "id": "96f1cac6-49a3-46ae-837c-f4447ee65b4d",
   "metadata": {},
   "source": [
    "![alt](Images/save-to-raw.png)"
   ]
  },
  {
   "cell_type": "markdown",
   "id": "ad39c957-63e0-47e0-ac90-ba84a989a64f",
   "metadata": {},
   "source": [
    "In this image, we convert the data from the TCP stream into a raw format. This step is crucial for extracting and reconstructing the image file from the captured network traffic. By converting the data to raw format, we can save the file contents without any additional protocol information or formatting that might have been included in the packet capture.\n",
    "\n",
    "The raw data provides a straightforward representation of the file contents, which allows us to reconstruct the image accurately. Once in raw format, we can save the data as a file (e.g., a JPEG image) and view it using an appropriate viewer to confirm that the extraction process was successful."
   ]
  },
  {
   "cell_type": "markdown",
   "id": "94019c5d-9d79-4e8b-ad80-4c06e26af1b4",
   "metadata": {},
   "source": [
    "![alt](Images/extracted-file.png)"
   ]
  },
  {
   "cell_type": "markdown",
   "id": "a5022f6a-af8e-4990-a610-40af55eca8cf",
   "metadata": {},
   "source": [
    "In this section, we successfully demonstrated how to capture and extract an image file transferred over FTP. By isolating the FTP traffic, filtering for specific commands and data packets, and following the TCP stream, we were able to identify and reconstruct the image file from the raw network data. This process illustrates the effectiveness of network analysis tools like Wireshark in tracking and recovering files transmitted over different protocols. The ability to extract and view the transferred image underscores the importance of understanding network traffic and protocol behavior in both security investigations and data recovery tasks."
   ]
  },
  {
   "cell_type": "markdown",
   "id": "05c41d04-4e04-4298-8c72-aa4230219ee9",
   "metadata": {},
   "source": [
    "# Conclusion"
   ]
  },
  {
   "cell_type": "markdown",
   "id": "20cf59f1-1375-42cc-a4a0-bd7eb057f864",
   "metadata": {},
   "source": [
    "In this project, we explored the use of Wireshark to capture and analyze network traffic with the goal of extracting images transmitted over the network. We focused on two primary protocols: HTML and FTP.\n",
    "\n",
    "For HTML traffic, we captured the packets, followed the TCP streams, and used filters to isolate and extract images embedded in web pages. This demonstrated how HTML traffic can carry images and how Wireshark's features can help us locate and recover these images.\n",
    "\n",
    "In the FTP portion, we examined the process of filtering FTP traffic, isolating data packets, and following TCP streams to extract images transferred via FTP. This showcased how FTP can be used for file transfers and how detailed analysis of network traffic can help in reconstructing files.\n",
    "\n",
    "Through this project, we illustrated the practical applications of Wireshark in network analysis and data extraction. By understanding how different protocols handle file transfers and leveraging Wireshark’s tools, we can effectively analyze and recover files from network traffic. This process highlights the value of network analysis in both forensic investigations and data recovery."
   ]
  }
 ],
 "metadata": {
  "kernelspec": {
   "display_name": "Python 3 (ipykernel)",
   "language": "python",
   "name": "python3"
  },
  "language_info": {
   "codemirror_mode": {
    "name": "ipython",
    "version": 3
   },
   "file_extension": ".py",
   "mimetype": "text/x-python",
   "name": "python",
   "nbconvert_exporter": "python",
   "pygments_lexer": "ipython3",
   "version": "3.11.7"
  }
 },
 "nbformat": 4,
 "nbformat_minor": 5
}
