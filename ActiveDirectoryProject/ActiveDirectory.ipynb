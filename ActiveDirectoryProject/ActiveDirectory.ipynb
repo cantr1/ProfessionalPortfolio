{
 "cells": [
  {
   "cell_type": "markdown",
   "id": "cd30bce2-3945-4991-bddb-02cb8fcda771",
   "metadata": {},
   "source": [
    "# Active Directory Project"
   ]
  },
  {
   "cell_type": "markdown",
   "id": "95c1f053-bd81-46b9-bdaa-9cd2a7b4c206",
   "metadata": {},
   "source": [
    "The goal of this project is to gain an understanding of the basics of Active Directory (AD). In this project, I perform some of the key actions administrators are tasked with, from managing users to creating new groups and setting orginational policies. \n",
    "\n",
    "The inspiration for this project is from a hypothetical ticket delivered to the service desk, pictured below."
   ]
  },
  {
   "cell_type": "markdown",
   "id": "7aaa1a91-10dd-46de-9c5e-2bf05582769c",
   "metadata": {},
   "source": [
    "![alt](Images/Ticket.png)"
   ]
  },
  {
   "cell_type": "markdown",
   "id": "03b3426a-da2b-48fa-8c80-1869869d7ee7",
   "metadata": {},
   "source": [
    "From the above, we can help the admin team with some of their current tickets."
   ]
  },
  {
   "cell_type": "markdown",
   "id": "955faebf-2c60-4496-8efc-31ed1b968af8",
   "metadata": {
    "jp-MarkdownHeadingCollapsed": true
   },
   "source": [
    "# User Management"
   ]
  },
  {
   "cell_type": "markdown",
   "id": "653209e1-7ce6-4fa6-9a8d-5b61efbc5e44",
   "metadata": {},
   "source": [
    "In any organization, efficient user management is crucial for maintaining security and ensuring smooth operations. This section focuses on fundamental Active Directory (AD) tasks, including creating new user accounts and managing existing ones, such as unlocking accounts when users are locked out."
   ]
  },
  {
   "cell_type": "markdown",
   "id": "4c950932-d429-4121-9726-3e4014f8564f",
   "metadata": {},
   "source": [
    "## Create new users"
   ]
  },
  {
   "cell_type": "markdown",
   "id": "7ea79558-ed24-4d1b-b7aa-b59c133d2781",
   "metadata": {},
   "source": [
    "![alt](Images/add-user.png)"
   ]
  },
  {
   "cell_type": "markdown",
   "id": "d9a5eb75-ef8e-4d67-9371-513862149065",
   "metadata": {},
   "source": [
    "To add a new user in Active Directory, start by navigating to the appropriate Organizational Unit (OU) where the user will be placed. Right-clicking on the OU and selecting \"New\" followed by \"User\" opens the user creation wizard. In this wizard, you'll need to input the user’s details, such as their first name, last name, and logon name."
   ]
  },
  {
   "cell_type": "markdown",
   "id": "ce7b79ec-b68a-4f89-a9a1-30a2df9f0d68",
   "metadata": {},
   "source": [
    "![alt](Images/add-user2.png)"
   ]
  },
  {
   "cell_type": "markdown",
   "id": "4ed1d263-9836-42cd-a3ef-44134a4ebd6c",
   "metadata": {},
   "source": [
    "After entering the necessary information, proceed to set up the account settings, including the initial password and any specific logon requirements, like forcing the user to change their password upon first login. Once all the details are confirmed and configured as needed, finalize the process by clicking \"Finish.\" The new user account will now appear in the selected OU, ready for further configuration or immediate use."
   ]
  },
  {
   "cell_type": "markdown",
   "id": "bacac0c7-a1f1-4b66-baa4-fa20afdb5a63",
   "metadata": {},
   "source": [
    "![alt](Images/add-user3.png)"
   ]
  },
  {
   "cell_type": "markdown",
   "id": "eb1a7bff-57b7-4f7f-8190-819b587759e7",
   "metadata": {},
   "source": [
    "## Unlock User Account"
   ]
  },
  {
   "cell_type": "markdown",
   "id": "afa55a02-08c1-49fa-8e06-90d61a03a1bd",
   "metadata": {},
   "source": [
    "Managing user accounts in Active Directory often includes addressing issues like account lockouts. When a user is locked out due to multiple unsuccessful login attempts, administrators must quickly unlock their account to restore access and maintain productivity."
   ]
  },
  {
   "cell_type": "markdown",
   "id": "0833f98c-a009-4dd1-8ff3-880c3b994a1d",
   "metadata": {},
   "source": [
    "![alt](Images/unlock-account.png)"
   ]
  },
  {
   "cell_type": "markdown",
   "id": "3b0cfa84-6e4c-4b21-add1-2543f766a2a0",
   "metadata": {},
   "source": [
    "To unlock a user account, begin by opening the \"Active Directory Users and Computers\" console. Use the \"Find\" option to search for the user by name, such as \"Adam Masters,\" in this example."
   ]
  },
  {
   "cell_type": "markdown",
   "id": "940bb87b-fbf3-4280-93de-d76f51503e39",
   "metadata": {},
   "source": [
    "![alt](Images/unlock-account2.png)"
   ]
  },
  {
   "cell_type": "markdown",
   "id": "3cb45b4a-ce8f-4405-a1f0-27b9e8109276",
   "metadata": {},
   "source": [
    "Once located, right-click on the user’s name and select the \"Reset Password\" option."
   ]
  },
  {
   "cell_type": "markdown",
   "id": "75cac182-4b59-448d-97e6-7a403e2e71f7",
   "metadata": {},
   "source": [
    "![alt](Images/unlock-account3.png)"
   ]
  },
  {
   "cell_type": "markdown",
   "id": "2162f64f-0bb0-4799-ab94-66ca97428ebf",
   "metadata": {},
   "source": [
    "In the \"Reset Password\" dialog, set a new password for the user if needed, and check the \"Unlock the user's account\" option. This will clear the lockout status. Ensure the \"User must change password at next logon\" option is selected if required by your organization's security policy. Click \"OK\" to apply these changes. The user account is now unlocked and ready for the user to access with the updated credentials."
   ]
  },
  {
   "cell_type": "markdown",
   "id": "21a6ec2e-38bf-4dea-b74c-a98ac6a099ce",
   "metadata": {},
   "source": [
    "![alt](Images/unlock-account4.png)"
   ]
  },
  {
   "cell_type": "markdown",
   "id": "01ca111d-4ff7-4d85-b756-5dcceb934fff",
   "metadata": {
    "jp-MarkdownHeadingCollapsed": true
   },
   "source": [
    "# Creating a Group and Organizational Unit (OU)"
   ]
  },
  {
   "cell_type": "markdown",
   "id": "e93f5609-7bcf-4caa-ba22-b4a8e2c60986",
   "metadata": {},
   "source": [
    "Organizational Units (OUs) and groups are essential components in Active Directory for managing and organizing resources, users, and permissions effectively. OUs are used to organize objects within a domain into a hierarchical structure, while groups are created to manage user permissions collectively, allowing for streamlined administration.\n",
    "\n",
    "In this section, we'll demonstrate how to create a new Organizational Unit (OU) named \"Security Analysts\" and set up a corresponding security group within that OU. This process helps to maintain an organized structure and simplifies the management of users who share similar roles or permissions."
   ]
  },
  {
   "cell_type": "markdown",
   "id": "a4c1bdb0-c4d4-492d-a159-c15b239569bd",
   "metadata": {},
   "source": [
    "![alt](Images/new-ou.png)"
   ]
  },
  {
   "cell_type": "markdown",
   "id": "991d8912-dbce-402a-ae05-6a4b7d8ffdee",
   "metadata": {},
   "source": [
    "To start, right-click on the desired parent OU, select \"New,\" and choose \"Organizational Unit.\" Enter the name of the new OU, in this case \"Security Analysts,\" and ensure the option to \"Protect container from accidental deletion\" is checked. This step helps to safeguard against unintentional deletions of the entire OU."
   ]
  },
  {
   "cell_type": "markdown",
   "id": "eebb35d7-eec8-4d1c-939a-8787f71f1cad",
   "metadata": {},
   "source": [
    "![alt](Images/new-ou2.png)"
   ]
  },
  {
   "cell_type": "markdown",
   "id": "65d6b2e7-8bdd-429b-99c9-b34c834174f1",
   "metadata": {},
   "source": [
    "Next, within the newly created \"Security Analysts\" OU, right-click and select \"New,\" then choose \"Group.\" We provide a name for the group, \"Security Analysts,\" and set the group scope and type according to the organizational needs."
   ]
  },
  {
   "cell_type": "markdown",
   "id": "574398bc-2cb6-4a62-b151-d75f799b56d3",
   "metadata": {},
   "source": [
    "![alt](Images/new-group.png)"
   ]
  },
  {
   "cell_type": "markdown",
   "id": "a3209e2d-70ac-4e78-9377-646b0cd519f3",
   "metadata": {},
   "source": [
    "Here, a \"Domain Local\" scope and \"Security\" type are selected. Choosing a \"Domain Local\" scope allows the group to be used to assign permissions to resources within the same domain, which is ideal for managing access to domain-specific resources like file shares, printers, or other domain-joined systems. "
   ]
  },
  {
   "cell_type": "markdown",
   "id": "aeac5f77-3218-4681-9547-25d901f53432",
   "metadata": {},
   "source": [
    "![alt](Images/new-group2.png)"
   ]
  },
  {
   "cell_type": "markdown",
   "id": "96faeecd-d399-4c51-8a2c-23fe5f6587a6",
   "metadata": {},
   "source": [
    "With the security group created, the final step involves adding relevant users to this group. Select the users who need to be part of the \"Security Analysts\" group, right-click, choose \"All Tasks,\" and then \"Add to a group.\""
   ]
  },
  {
   "cell_type": "markdown",
   "id": "aaac5fab-05ec-412d-a6b2-03ad8756d4b7",
   "metadata": {},
   "source": [
    "![alt](Images/add-user-group.png)"
   ]
  },
  {
   "cell_type": "markdown",
   "id": "9fedc5b1-498d-4834-adb3-b356d623cdf1",
   "metadata": {},
   "source": [
    "In the \"Select Groups\" dialog, enter the group name and confirm the selection. This action assigns the selected users to the group, granting them the predefined permissions and access levels."
   ]
  },
  {
   "cell_type": "markdown",
   "id": "7ca1de3a-0a0c-4267-87cc-5c19a9c30bc8",
   "metadata": {},
   "source": [
    "![alt](Images/add-user-group2.png)"
   ]
  },
  {
   "cell_type": "markdown",
   "id": "3ecbe9a5-b6e0-4b9f-bb77-341b7ccb4c77",
   "metadata": {
    "jp-MarkdownHeadingCollapsed": true
   },
   "source": [
    "# Setting Group Policies"
   ]
  },
  {
   "cell_type": "markdown",
   "id": "97ee19a8-9745-42a3-ac68-3dab4e6300fe",
   "metadata": {},
   "source": [
    "Group Policy is a powerful feature in Active Directory that allows administrators to manage the configuration and behavior of users and computers within an organization. By creating and applying Group Policy Objects (GPOs), administrators can enforce security settings, deploy software, and manage desktop configurations across all domain-joined machines. This section demonstrates how to create a new GPO for the \"Security Analysts\" Organizational Unit (OU) and link it to the desired target using PowerShell and the Group Policy Management Console (GPMC)."
   ]
  },
  {
   "cell_type": "markdown",
   "id": "50f774f0-35a3-461e-b263-f23a0b34e00b",
   "metadata": {},
   "source": [
    "![alt](Images/PowerShell.png)"
   ]
  },
  {
   "cell_type": "markdown",
   "id": "57e270b4-a48b-4a25-9f8f-809e46f99c92",
   "metadata": {},
   "source": [
    "To create a new Group Policy Object (GPO), begin by copying an existing GPO template. In this case, the \"Logon Banner\" GPO is used as a base to create a new GPO named \"Security Analysts Control.\" Using the Copy-GPO cmdlet in PowerShell, specify the source GPO and the target name for the new GPO. Once the GPO is created, it is linked to the appropriate OU using the New-GPLink cmdlet, ensuring the GPO applies to the \"Security Analysts\" OU specifically. This script-based method provides a quick and efficient way to replicate and apply policies across different parts of the organization. "
   ]
  },
  {
   "cell_type": "markdown",
   "id": "998c8c8a-2361-49da-927e-5c19ab249174",
   "metadata": {},
   "source": [
    "![alt](Images/new-gpo.png)"
   ]
  },
  {
   "cell_type": "markdown",
   "id": "04598c15-c960-4157-9089-87bf6c493be0",
   "metadata": {},
   "source": [
    "In addition to using PowerShell, you can also create and link a GPO directly within the GPMC. Right-click within the \"Group Policy Objects\" folder and select \"New.\" Enter the name for the new GPO, such as \"Security Analysts Control,\" and configure it as needed. This method provides a graphical interface for creating and managing GPOs, which can be more intuitive for administrators who prefer working within a GUI environment. This also allows for the linking performed in the second command of our powershell."
   ]
  },
  {
   "cell_type": "markdown",
   "id": "f584874e-9c63-43b7-90f2-7c8242e23eff",
   "metadata": {},
   "source": [
    "![alt](Images/new-gpo2.png)"
   ]
  },
  {
   "cell_type": "markdown",
   "id": "db1e2c17-ba91-471d-82e7-20be1e11a3cf",
   "metadata": {
    "jp-MarkdownHeadingCollapsed": true
   },
   "source": [
    "# Modifying Group policies"
   ]
  },
  {
   "cell_type": "markdown",
   "id": "cb808473-3ebe-41fa-8b35-e61d2f5e4364",
   "metadata": {},
   "source": [
    "Group Policy Objects (GPOs) can be customized to enforce specific security measures and configurations across domain-joined devices. This section demonstrates how to modify a GPO to block access to removable drives for enhanced security and to allow specific user groups, such as Security Analysts, to use the command prompt."
   ]
  },
  {
   "cell_type": "markdown",
   "id": "d1599c52-f07f-4e24-91e4-b0a2335143fa",
   "metadata": {},
   "source": [
    "![alt](Images/modify-gpo.png)"
   ]
  },
  {
   "cell_type": "markdown",
   "id": "b1a2224f-fd65-4b9c-aa3c-c665beec1f3d",
   "metadata": {},
   "source": [
    "To enhance security by preventing unauthorized data transfers, we modify the \"Security Analysts Control\" GPO to block access to all removable storage devices. Start by right-clicking on the GPO and selecting \"Edit\" to open the Group Policy Management Editor. Navigate to Computer Configuration > Policies > Administrative Templates > System > Removable Storage Access. "
   ]
  },
  {
   "cell_type": "markdown",
   "id": "b68ff04f-596e-48de-baba-604b7386ac0e",
   "metadata": {},
   "source": [
    "![alt](Images/storage-devices.png)"
   ]
  },
  {
   "cell_type": "markdown",
   "id": "87c431ad-7ef9-42d5-8867-ed0a148cbcae",
   "metadata": {},
   "source": [
    "Here, select the policy \"All Removable Storage classes: Deny all access\" and set it to \"Enabled.\" This configuration prevents users from accessing any removable storage devices, such as USB drives, ensuring data remains secure within the network."
   ]
  },
  {
   "cell_type": "markdown",
   "id": "6d4ee420-141e-41a5-bf7c-b86b04db44c0",
   "metadata": {},
   "source": [
    "![alt](Images/storage-device2.png)"
   ]
  },
  {
   "cell_type": "markdown",
   "id": "8f0694b8-1772-4d17-84a4-1e03ab0a7944",
   "metadata": {},
   "source": [
    "While restrictive measures like blocking the command prompt can improve security, certain user groups, such as Security Analysts, require access for their roles. In the \"Security Analysts Control\" GPO, navigate to User Configuration > Policies > Administrative Templates > System. Find the policy \"Prevent access to the command prompt\" and set it to \"Disabled\" for this user group. "
   ]
  },
  {
   "cell_type": "markdown",
   "id": "3cb43edb-8b07-46ca-821b-0bd499c7ff10",
   "metadata": {},
   "source": [
    "![alt](Images/cmd-prompt.png)"
   ]
  },
  {
   "cell_type": "markdown",
   "id": "1ae53aaa-aade-4640-845b-42995385b2cc",
   "metadata": {},
   "source": [
    "This policy change allows Security Analysts to use the command prompt while keeping it restricted for other users, balancing security needs with operational requirements. "
   ]
  },
  {
   "cell_type": "markdown",
   "id": "27e334c9-f0fe-4e0c-84f6-3ad82b69fba9",
   "metadata": {},
   "source": [
    "![alt](Images/cmd-prompt2.png)"
   ]
  },
  {
   "cell_type": "markdown",
   "id": "c32337e4-f904-46e3-adfb-96cbb8a64a89",
   "metadata": {},
   "source": [
    "# Conclusion"
   ]
  },
  {
   "cell_type": "markdown",
   "id": "f80f73e6-35c8-4fe1-9f24-e3d30812864b",
   "metadata": {},
   "source": [
    "This project demonstrated the essential tasks involved in managing Active Directory, including creating and organizing users, setting up Organizational Units (OUs) and security groups, and configuring Group Policy Objects (GPOs) to enforce security measures. By effectively managing these aspects of Active Directory, administrators can ensure a secure, organized, and efficient IT environment that supports the organization's operational needs. This project highlighted the importance of structured user management, tailored group policies, and the strategic use of PowerShell for streamlined administration. These skills are critical in maintaining a robust and secure network infrastructure."
   ]
  },
  {
   "cell_type": "code",
   "execution_count": null,
   "id": "6eb27187-f0e9-40b2-9a25-310545aaec0c",
   "metadata": {},
   "outputs": [],
   "source": []
  }
 ],
 "metadata": {
  "kernelspec": {
   "display_name": "Python 3 (ipykernel)",
   "language": "python",
   "name": "python3"
  },
  "language_info": {
   "codemirror_mode": {
    "name": "ipython",
    "version": 3
   },
   "file_extension": ".py",
   "mimetype": "text/x-python",
   "name": "python",
   "nbconvert_exporter": "python",
   "pygments_lexer": "ipython3",
   "version": "3.11.7"
  }
 },
 "nbformat": 4,
 "nbformat_minor": 5
}
