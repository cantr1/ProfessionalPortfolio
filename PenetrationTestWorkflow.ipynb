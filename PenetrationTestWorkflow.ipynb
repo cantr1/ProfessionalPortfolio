{
 "cells": [
  {
   "cell_type": "markdown",
   "id": "8e02ceb8-76c6-422d-a26a-a8dfed775d12",
   "metadata": {},
   "source": [
    "# Penetration Testing Workflow"
   ]
  },
  {
   "cell_type": "markdown",
   "id": "a9312325-0b57-4db2-b872-a02c59f0884c",
   "metadata": {},
   "source": [
    "Penetration testing, also known as ethical hacking, involves simulating real-world attacks on a target system to identify vulnerabilities and assess security measures. In this notebook, we will walk through a basic penetration test workflow, highlighting key steps and techniques used to discover and exploit a vulnerability.\n",
    "\n",
    "In this example, we will focus on a scenario where we find an open Remote Desktop Protocol (RDP) port on a target system. RDP is a protocol used for remote access to Windows machines, and an open port can sometimes indicate a potential security risk. By leveraging this vulnerability, we will demonstrate how an attacker can gain unauthorized access to the target machine.\n",
    "\n",
    "*All of this is done in a controlled environment --- Emphasis on the ethical in ethical hacking*"
   ]
  },
  {
   "cell_type": "markdown",
   "id": "ee0a9b66-55b3-46a0-b8f7-bcc614950012",
   "metadata": {},
   "source": [
    "## Enumeration"
   ]
  },
  {
   "cell_type": "markdown",
   "id": "526d73b9-686b-4c5d-94e8-f68e9ee06b9a",
   "metadata": {},
   "source": [
    "In this hypothetical, stakeholders want us to test the vulnerability of their network as part of their gap analysis. With the consent of the owners of this machine, we begin the process of enumeration.\n",
    "\n",
    "Enumeration is the analysis of the target for open ports and services. RDP catches our immediate attention in this example. \n",
    "\n",
    "Remote Desktop Protocol (Port 3389) is used to remotely control Windows machines. Leaving RDP open, especially on a public-facing IP address, can pose significant security risks, as it exposes the machine to potential unauthorized access and exploitation. \n",
    "\n",
    "Some reasons RDP can be left open:\n",
    "- Lack of awareness\n",
    "- Misconfiguration\n",
    "- Temporary requirement"
   ]
  },
  {
   "cell_type": "markdown",
   "id": "f2694a84-56ed-461f-a7a7-777187ce0802",
   "metadata": {},
   "source": [
    "![Alt text](foothold.png)"
   ]
  },
  {
   "cell_type": "markdown",
   "id": "5fa426e6-e008-46c8-acda-3c4fdbeeac91",
   "metadata": {},
   "source": [
    "In this image, we ran the 'ping' command to verify connection to the target. Followed by an Nmap scan to determine open ports.\n",
    "\n",
    "### ping {target-ip}\n",
    "\n",
    "With our connection secured, we then use the nmap tool to scan the target. Nmap is another great open-source tool used by infosec professionals to conduct vulnerabilty scanning and has many great features.\n",
    "\n",
    "### sudo nmap -sV -F -T 5 --min-rate 1000 {target-ip}\n",
    "    -sV: Service version\n",
    "    -F: Fast scan\n",
    "    -T #: Speed and aggression (1-5)\n",
    "    --min-rate #: minimum rate of packets to send per second\n"
   ]
  },
  {
   "cell_type": "markdown",
   "id": "588c9b56-9f3c-48fa-9063-a8b4c29a3dab",
   "metadata": {},
   "source": [
    "## Foothold"
   ]
  },
  {
   "cell_type": "markdown",
   "id": "afb1cb10-64e5-4a9d-9c02-e0945e8df800",
   "metadata": {},
   "source": [
    "One challenge in this penetration test is that Linux does not have a native RDP client.\n",
    "\n",
    "Encountering obstacles during a penetration test is to be expected. When this happens, it is wise to seek outside resources for guidance. Forums are a great place to learn from more experienced professionals, like the ones who developed the xfreerdp tool.\n",
    "\n",
    "xfreerdp is an open-source implementation of RDP and allows our Kali machine to establish a foothold with the target machine.\n"
   ]
  },
  {
   "cell_type": "markdown",
   "id": "7c95bd53-7a37-47d3-ba9d-db6fb2eaca23",
   "metadata": {},
   "source": [
    "![Alt text](rdp.png)"
   ]
  },
  {
   "cell_type": "markdown",
   "id": "b6b703ac-b5d7-4d7c-8597-e446117c1207",
   "metadata": {},
   "source": [
    "### xfreerdp /v:{target-ip} /cert:ignore /u:Administrator\n",
    "    -/v: = select host\n",
    "    -/cert:ignore = ignore certificate warnings\n",
    "    -/u:Adminisrtrator = specify username to the RDP session"
   ]
  },
  {
   "cell_type": "markdown",
   "id": "fda95337-927a-48d2-b142-4952da9cb5d4",
   "metadata": {},
   "source": [
    "## Command and Control"
   ]
  },
  {
   "cell_type": "markdown",
   "id": "5c0f02db-a161-49d6-bc77-683f1cc0487a",
   "metadata": {},
   "source": [
    "With control of the host, a bad actor could cause a great deal of damage to the organization.\n",
    "\n",
    "Below is a screenshot of the host running on a Windows machine."
   ]
  },
  {
   "cell_type": "markdown",
   "id": "f08fb386-bbf7-4359-a05b-609cea957927",
   "metadata": {},
   "source": [
    "![Alt text](rdptarget.png)\n",
    "\n"
   ]
  },
  {
   "cell_type": "markdown",
   "id": "0e6722e7-446d-4b94-a3c4-9cd417bcb8c3",
   "metadata": {},
   "source": [
    "# Conclusion"
   ]
  },
  {
   "cell_type": "markdown",
   "id": "c8000ea0-6716-463b-8524-f92a5d199d6d",
   "metadata": {},
   "source": [
    "In this penetration test we discovered a major vulnerability with an open RDP port on the host machine. \n",
    "\n",
    "The final step of the test is to report the vulnerability and give advice on ways to better defend the host. \n",
    "\n",
    "### To prevent the exploitation of RDP:\n",
    "- Implement Strong Password Policies\n",
    "- Use firewalls to block inbound RDP traffic from untrusted sources or the internet.\n",
    "- If RDP is not necessary, disable it to eliminate the risk entirely.\n"
   ]
  }
 ],
 "metadata": {
  "kernelspec": {
   "display_name": "Python 3 (ipykernel)",
   "language": "python",
   "name": "python3"
  },
  "language_info": {
   "codemirror_mode": {
    "name": "ipython",
    "version": 3
   },
   "file_extension": ".py",
   "mimetype": "text/x-python",
   "name": "python",
   "nbconvert_exporter": "python",
   "pygments_lexer": "ipython3",
   "version": "3.11.7"
  }
 },
 "nbformat": 4,
 "nbformat_minor": 5
}
